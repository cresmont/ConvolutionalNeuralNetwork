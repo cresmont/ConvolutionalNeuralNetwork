{
 "cells": [
  {
   "cell_type": "markdown",
   "metadata": {},
   "source": [
    "# Convolutional Neural Network (With Hidden Layer)"
   ]
  },
  {
   "cell_type": "code",
   "execution_count": 1,
   "metadata": {},
   "outputs": [],
   "source": [
    "#Imorting dependencies"
   ]
  },
  {
   "cell_type": "code",
   "execution_count": 2,
   "metadata": {},
   "outputs": [],
   "source": [
    "import numpy as np"
   ]
  },
  {
   "cell_type": "code",
   "execution_count": 3,
   "metadata": {},
   "outputs": [],
   "source": [
    "# forming sample Convolutional Neural Network on AND gate"
   ]
  },
  {
   "cell_type": "code",
   "execution_count": 4,
   "metadata": {},
   "outputs": [],
   "source": [
    "X = np.array([[0,0],[0,1],[1,0],[1,1]])\n",
    "Y= np.array([[0,1,1,0]]).T\n"
   ]
  },
  {
   "cell_type": "code",
   "execution_count": 5,
   "metadata": {},
   "outputs": [],
   "source": [
    "#using sigmod function\n",
    "def sig(z):\n",
    "    return 1/(1+np.exp(-z))"
   ]
  },
  {
   "cell_type": "code",
   "execution_count": 6,
   "metadata": {},
   "outputs": [],
   "source": [
    "# finding derivative of sigmoid \n",
    "def dersig(z):\n",
    "    return sig(z)*(1-sig(z))"
   ]
  },
  {
   "cell_type": "code",
   "execution_count": 7,
   "metadata": {},
   "outputs": [],
   "source": [
    "# initialising with random number within range (-1,1)\n",
    "\n",
    "wh = 2 * np.random.random((2, 2)) - 1\n",
    "bh = 2 * np.random.random((1, 2)) - 1\n",
    "wo = 2 * np.random.random((2, 1)) - 1\n",
    "bo = 2 * np.random.random((1, 1)) - 1"
   ]
  },
  {
   "cell_type": "code",
   "execution_count": 8,
   "metadata": {},
   "outputs": [],
   "source": [
    "#using constant in gradient descent\n",
    "alpha =0.1"
   ]
  },
  {
   "cell_type": "code",
   "execution_count": 9,
   "metadata": {},
   "outputs": [],
   "source": [
    "#finding weights and bias using gradient descent \n",
    "\n",
    "for iter in range(100000):    \n",
    "    input0 = X\n",
    "    \n",
    "    ip_hidden = np.dot(input0,wh)+bh\n",
    "    op_hidden = sig(ip_hidden)\n",
    "    \n",
    "    ip_output = np.dot(op_hidden,wo)+bo\n",
    "    op_output = sig(ip_output)\n",
    "    \n",
    "    der_e_out = op_output - Y\n",
    "    der_out_hid = dersig(ip_output)\n",
    "    two_out = der_e_out * der_out_hid\n",
    "    \n",
    "    der_o_hid = np.dot(two_out,wo.T)\n",
    "    der_hid_inp = dersig(ip_hidden)\n",
    "    two_hid = der_o_hid * der_hid_inp\n",
    "    \n",
    "    change_w_o = np.dot(op_hidden.T,two_out)\n",
    "    change_b_o = np.sum(two_out , axis = 0 , keepdims = True)\n",
    "    \n",
    "    change_w_h = np.dot(input0.T,two_hid)\n",
    "    change_b_h = np.sum(two_hid , axis = 0 , keepdims = True)\n",
    "    wo = wo -alpha * change_w_o\n",
    "    bo = bo -alpha * change_b_o\n",
    "    wh = wh -alpha * change_w_h\n",
    "    bh = bh -alpha * change_b_h\n",
    "    \n"
   ]
  },
  {
   "cell_type": "code",
   "execution_count": 10,
   "metadata": {},
   "outputs": [
    {
     "name": "stdout",
     "output_type": "stream",
     "text": [
      "Output\n",
      " [[0.01190925]\n",
      " [0.98880746]\n",
      " [0.98637018]\n",
      " [0.01064327]] \n",
      "\n",
      "Weights(Hidden)\n",
      " [[-6.37249302 -6.0165632 ]\n",
      " [ 6.28971262  6.23559135]] \n",
      "\n",
      "Bais(Hidden)\n",
      " [[-3.40709376  3.01277759]] \n",
      "\n",
      "Weights(OutPut)\n",
      " [[10.23675775]\n",
      " [-9.96584722]] \n",
      "\n",
      "Weights(OutPut)\n",
      " [[4.75213008]]\n"
     ]
    }
   ],
   "source": [
    "\n",
    "input0 = X\n",
    "ip_hidden = np.dot(input0,wh)+bh\n",
    "op_hidden = sig(ip_hidden)\n",
    "\n",
    "ip_output = np.dot(op_hidden,wo)+bo\n",
    "op_output = sig(ip_output)\n",
    "\n",
    "print(\"Output\\n\",op_output,\"\\n\\nWeights(Hidden)\\n\",wh,\"\\n\\nBais(Hidden)\\n\",bh,\"\\n\\nWeights(OutPut)\\n\",wo,\"\\n\\nWeights(OutPut)\\n\",bo)"
   ]
  }
 ],
 "metadata": {
  "kernelspec": {
   "display_name": "Python 3",
   "language": "python",
   "name": "python3"
  },
  "language_info": {
   "codemirror_mode": {
    "name": "ipython",
    "version": 3
   },
   "file_extension": ".py",
   "mimetype": "text/x-python",
   "name": "python",
   "nbconvert_exporter": "python",
   "pygments_lexer": "ipython3",
   "version": "3.8.8"
  }
 },
 "nbformat": 4,
 "nbformat_minor": 4
}
