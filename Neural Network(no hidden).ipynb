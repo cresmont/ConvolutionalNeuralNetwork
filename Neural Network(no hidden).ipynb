{
 "cells": [
  {
   "cell_type": "markdown",
   "metadata": {},
   "source": [
    "# Convolutional Neural Network"
   ]
  },
  {
   "cell_type": "code",
   "execution_count": 1,
   "metadata": {},
   "outputs": [],
   "source": [
    "#Imorting dependencies"
   ]
  },
  {
   "cell_type": "code",
   "execution_count": 2,
   "metadata": {},
   "outputs": [],
   "source": [
    "import numpy as np"
   ]
  },
  {
   "cell_type": "code",
   "execution_count": 3,
   "metadata": {},
   "outputs": [],
   "source": [
    "# forming sample Convolutional Neural Network on AND gate"
   ]
  },
  {
   "cell_type": "code",
   "execution_count": 4,
   "metadata": {},
   "outputs": [],
   "source": [
    "X = np.array([[0,0],[0,1],[1,0],[1,1]])\n",
    "Y= np.array([[0,0,0,1]]).T"
   ]
  },
  {
   "cell_type": "code",
   "execution_count": 5,
   "metadata": {},
   "outputs": [],
   "source": [
    "#using sigmod function\n",
    "def sig(z):\n",
    "    return 1/(1+np.exp(-z))"
   ]
  },
  {
   "cell_type": "code",
   "execution_count": 6,
   "metadata": {},
   "outputs": [],
   "source": [
    "# finding derivative of sigmoid \n",
    "def dersig(z):\n",
    "    return sig(z)*(1-sig(z))"
   ]
  },
  {
   "cell_type": "code",
   "execution_count": 7,
   "metadata": {},
   "outputs": [
    {
     "data": {
      "text/plain": [
       "(array([[ 0.56140195],\n",
       "        [-0.49016215]]),\n",
       " array([[-0.87424748]]))"
      ]
     },
     "execution_count": 7,
     "metadata": {},
     "output_type": "execute_result"
    }
   ],
   "source": [
    "# initialising with random number within range (-1,1)\n",
    "weights = 2*np.random.random((2,1)) -1\n",
    "bias = 2*np.random.random((1,1)) -1\n",
    "weights,bias"
   ]
  },
  {
   "cell_type": "code",
   "execution_count": 8,
   "metadata": {},
   "outputs": [],
   "source": [
    "#using constant in gradient descent\n",
    "alpha =20"
   ]
  },
  {
   "cell_type": "code",
   "execution_count": 9,
   "metadata": {},
   "outputs": [
    {
     "data": {
      "text/plain": [
       "(array([[7.2460756 ],\n",
       "        [7.24510606]]),\n",
       " array([[-10.95598548]]),\n",
       " array([[1.74529314e-05],\n",
       "        [2.38721883e-02],\n",
       "        [2.38947911e-02],\n",
       "        [9.71672787e-01]]))"
      ]
     },
     "execution_count": 9,
     "metadata": {},
     "output_type": "execute_result"
    }
   ],
   "source": [
    "#finding weights and bias using gradient descent \n",
    "for iter in range(100):    \n",
    "    output0 = X\n",
    "    \n",
    "    opt = sig(np.dot(output0, weights) + bias)\n",
    "    fir = opt-Y\n",
    "    fir_inp = np.dot(output0, weights) + bias\n",
    "    \n",
    "    sec = dersig(fir_inp)\n",
    "    \n",
    "    ftwo = fir * sec\n",
    "    \n",
    "    changes = np.dot(output0.T,ftwo)\n",
    "    bias_ch = np.sum(ftwo)\n",
    "    weights = weights -alpha * changes\n",
    "    bias = bias - alpha * bias_ch\n",
    "output = sig(np.dot(X, weights) + bias)\n",
    "weights,bias,output"
   ]
  }
 ],
 "metadata": {
  "kernelspec": {
   "display_name": "Python 3",
   "language": "python",
   "name": "python3"
  },
  "language_info": {
   "codemirror_mode": {
    "name": "ipython",
    "version": 3
   },
   "file_extension": ".py",
   "mimetype": "text/x-python",
   "name": "python",
   "nbconvert_exporter": "python",
   "pygments_lexer": "ipython3",
   "version": "3.8.8"
  }
 },
 "nbformat": 4,
 "nbformat_minor": 4
}
